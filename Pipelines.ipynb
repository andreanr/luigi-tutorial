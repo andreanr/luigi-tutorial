{
 "cells": [
  {
   "cell_type": "code",
   "execution_count": 3,
   "metadata": {
    "collapsed": true
   },
   "outputs": [],
   "source": [
    "from IPython.display import Image"
   ]
  },
  {
   "cell_type": "markdown",
   "metadata": {},
   "source": [
    "# Flujo de Información\n",
    "\n",
    "Regularmente existen varios pasos de procesamiento para preparar los datos.\n",
    "  - Extraer los datos (desde una carpeta, internet, una base de\n",
    "    datos) e importarlos.\n",
    "  - Validar los datos.\n",
    "  - Transformarlos a un formato más adecuado.\n",
    "  - Ejecutar agregaciones y generación de variables.\n",
    "  - Modelos\n",
    "\n",
    "\n",
    "## Pipeline\n",
    "> Un pipeline consiste en un flujo de pasos separados de forma limpia, representados en un grafo dirigido. \n",
    "\n",
    "- Desacopla los pasos de procesamiento (como la limpieza, la agregación, la unión) del uso final de los datos. \n",
    "    - Facilita la reutilización\n",
    "- Agnóstico de la tecnología.\n",
    "- El linaje de datos es fácil de seguir.\n",
    "- Funciona de forma coordinada\n",
    "\n",
    "<font color=red> \n",
    " Un pipeline hace algo, no es un repositorio\n",
    "\n",
    "![title](img/data-science.png)"
   ]
  },
  {
   "cell_type": "markdown",
   "metadata": {},
   "source": [
    "## Puntos clave:\n",
    "\n",
    "\n",
    "1. Reproducible   \n",
    "2. Consistente     \n",
    "3. Adaptable  \n",
    "4. **Modularizable**\n",
    "\n",
    "***\n"
   ]
  },
  {
   "cell_type": "markdown",
   "metadata": {},
   "source": [
    "## Antes:"
   ]
  },
  {
   "cell_type": "markdown",
   "metadata": {},
   "source": [
    "\n",
    "### Opción 1\n",
    "\n",
    "En bash se corren scripts de python\n",
    "```\n",
    "> python import.py   \n",
    "> python tidy.py  \n",
    "> python transform.py    \n",
    "> python model.py\n",
    "\n",
    "```\n"
   ]
  },
  {
   "cell_type": "markdown",
   "metadata": {},
   "source": [
    "### Opcion 2\n",
    "- Definir una interfaz de línea de comando para cada tarea\n",
    "- Se vuelve una tarea larga e intensiva apilada\n",
    "\n",
    "```\n",
    "> if __name__ == '__main__':    \n",
    ">     get_data()   \n",
    ">     clean_data()    \n",
    ">     join_data()    \n",
    ">     run_model()    \n",
    "```\n",
    "\n",
    "\n",
    "En bash:    \n",
    "`python do_everything.py`\n",
    "\n",
    "\n"
   ]
  },
  {
   "cell_type": "markdown",
   "metadata": {},
   "source": [
    "## Ahora - Orquestador\n",
    "\n",
    "Se busca que sea:\n",
    "- Representado por un grafo dirigido acíclico (DAG).\n",
    "- Modularizable\n",
    "- Identificable (como funciones)\n",
    "- Idempotente\n",
    "- Que soporte puntos de control (checkpointing)\n",
    "\n",
    "Al concepto de coordinar y gestionar programación se les conoce como orquestación.\n",
    "\n",
    "  \n",
    "<img src=\"img/dag1.png\" alt=\"Drawing\" style=\"width: 500px;\"/>\n",
    "<img src=\"img/dag2.jpg\" alt=\"Drawing\" style=\"width: 400px;\"/>"
   ]
  },
  {
   "cell_type": "markdown",
   "metadata": {},
   "source": [
    "###  Herramientas:\n",
    "\n",
    "- [Google Cloud Workflow](https://cloud.google.com/dataflow/?hl=es-419)\n",
    "- [Apache Beam](https://beam.apache.org/)\n",
    "- [Pegasus](https://pegasus.isi.edu/)\n",
    "- [Luigi](http://luigi.readthedocs.io/en/stable/workflows.html)\n",
    "- [DataPipeline (Java)](https://northconcepts.com/docs/what-is-data-pipeline/)"
   ]
  },
  {
   "cell_type": "markdown",
   "metadata": {},
   "source": [
    "<img src=\"img/luigi.png\" alt=\"Drawing\" style=\"width: 80px;\"/>\n",
    "\n",
    "***"
   ]
  },
  {
   "cell_type": "markdown",
   "metadata": {},
   "source": [
    "<img src=\"img/luigi_logo.png\" alt=\"Drawing\" style=\"width: 200px;\" align=\"left\"/>"
   ]
  },
  {
   "cell_type": "markdown",
   "metadata": {},
   "source": [
    "Flujo de trabajo por lotes desarrollado por Erik Bernhardsson, Elias Freider y otros en Spotify como orquestador en 2012.\n",
    "\n",
    "## ¿Por qué Luigi?\n",
    "\n",
    "- Software libre\n",
    "- Gratuito\n",
    "- Hace que sea fácil escribir código modular y crear dependencias entre tareas.\n",
    "- Escrito en _python_ y se pueden ejecutar tasks de: R, bash, Spark, SQL, etc\n",
    "- Sintaxis consistente y tareas especializadas\n",
    "- Soporta herramientas externas: _postgresql_, _s3_, _Hadoop_\n",
    "- Idempotente\n",
    "- Identificable, lo que evita tareas duplicadas\n",
    "- Puntos de Control / Checkpoints\n",
    "- Tiene una interfaz gráfica\n",
    "- ¡Manda correos electrónicos!\n",
    "- Servidor central que distribuye tareas automáticamente optimizando tiempo y recursos.\n",
    "\n",
    "\n",
    "***\n"
   ]
  },
  {
   "cell_type": "markdown",
   "metadata": {},
   "source": [
    "## ¿Cómo construir el flujo?\n",
    "\n",
    "Los flujos de trabajo consisten en dos tipos de clases **Tasks** y **Tagets**.\n",
    "\n",
    "### Tasks\n",
    "- Son definidos como clases the python que heredan de una clase de luigi \n",
    "- Los tasks son end donde se lleva a cabo la ejecución \n",
    "- Dependen unas de otras y producen checkpoints\n",
    "\n",
    "\n",
    "***\n",
    "\n"
   ]
  },
  {
   "cell_type": "markdown",
   "metadata": {},
   "source": [
    "Cada  tarea contiene métodos que se deben especificar:\n",
    "\n",
    "\n",
    "- **`requires()`** Es el método que se usa para especificar las dependencias con otros Tasks, incluso pueden ser de la misma clase.\n",
    "\n",
    "- **`output()`**  Regresa los objetivos o checkpoints, tipicamente son archivos o cualquier Target definida.\n",
    "\n",
    "- **`run()`**  Aquí va todo el código que la tarea debe ejecutar como su trabajo.\n"
   ]
  },
  {
   "cell_type": "markdown",
   "metadata": {},
   "source": [
    "\n",
    "### Targets \n",
    "Es una clase destino que corresponde a un archivo en un disco, un archivo en HDFS o algún tipo de punto de control, como una entrada en una base de datos. En realidad, el único método que los Targets deben implementar es el método exists, que devuelve True si y solo si el objetivo existe.\n",
    "\n",
    "En la práctica, rara vez se necesita implementar subclases de Target. Luigi viene con una caja de herramientas de varios objetivos útiles. En particular, LocalTarget."
   ]
  },
  {
   "cell_type": "markdown",
   "metadata": {},
   "source": [
    "### Tipos de tareas:\n",
    "\n",
    "- **luigi.Task**\n",
    "    - Requiere especificar los tres métodos: *requieres*, *run* y *output*\n",
    "\n",
    "- **luigi.WrapperTask**\n",
    "  - Sirve para disparar varias clases, \n",
    "  - Sólo hay que  especificar el método *requires*\n",
    "  \n",
    "  \n",
    "- **luigi.ExternalTask**\n",
    "  - Representa un objeto externo al pipeline, por ejemplo un archivo.\n",
    "  - Sólo hay que codificar el método *output*\n",
    "  \n",
    "  \n",
    "### Otros componentes:\n",
    "\n",
    "- **luigi server**\n",
    "  - Servidor encargado de la orquestación remota de los Task\n",
    "  \n",
    "  \n",
    "- **Parámetros**\n",
    "  - Son como los argumentos de los Task, deben de ser diferentes si queremos\n",
    "    varias ejecuciones de los mismos. Un ejemplo puede ser la fecha o los\n",
    "    hiperparámetros de un modelo.\n",
    " \n",
    " \n",
    "- **Archivo luigi.cfg**\n",
    "  - Aquí se configura varios de los parámetros de los Task y del servidor de Luigi\n",
    "  \n",
    "  \n",
    "***\n"
   ]
  },
  {
   "cell_type": "markdown",
   "metadata": {},
   "source": [
    "### Ejemplo 1\n",
    "\n",
    "Correr con alguno de los dos comandos:\n",
    "```\n",
    "python luigi_helloworld.py --local-scheduler HelloWorld   \n",
    "PYTHONPATH='.' luigi --module luigi_helloworld --local-scheduler HelloWorld\n",
    "```"
   ]
  },
  {
   "cell_type": "code",
   "execution_count": 1,
   "metadata": {
    "collapsed": true
   },
   "outputs": [],
   "source": [
    "import luigi\n",
    "\n",
    "class HelloWorld(luigi.Task):\n",
    "    \n",
    "    def requires(self):\n",
    "        return None\n",
    "    \n",
    "    def output(self):\n",
    "        return luigi.LocalTarget('../outputs/helloworld.txt')\n",
    "    \n",
    "    def run(self):\n",
    "        with self.output().open('w') as outfile:\n",
    "            outfile.write('Hello World!\\n')"
   ]
  },
  {
   "cell_type": "markdown",
   "metadata": {},
   "source": [
    "### Ejemplo 2\n",
    "\n",
    "Generar Tasks a partir de la siguiente estructura:\n",
    "\n",
    "<img src=\"img/dag1.png\" alt=\"Drawing\" style=\"width: 400px;\"/>\n",
    "\n",
    "Correr con:\n",
    "```\n",
    "PYTHONPATH='.' luigi --module luigi_example --local-scheduler AllTasks\n",
    "```"
   ]
  },
  {
   "cell_type": "code",
   "execution_count": 2,
   "metadata": {
    "collapsed": true
   },
   "outputs": [],
   "source": [
    "import luigi\n",
    "import time\n",
    "\n",
    "\n",
    "# Meta Task\n",
    "class TaskExample(luigi.Task):\n",
    "    filename = luigi.Parameter()\n",
    "\n",
    "    def output(self):\n",
    "        return luigi.LocalTarget('outputs/{}.txt'.format(self.filename))\n",
    "\n",
    "    def run(self):\n",
    "        with self.output().open('w') as outfile:\n",
    "            outfile.write('DONE!')\n",
    "\n",
    "# DAG\n",
    "class TaskA(TaskExample):\n",
    "    def requires(self):\n",
    "        return None\n",
    "\n",
    "class TaskG(TaskExample):\n",
    "    def requires(self):\n",
    "        return None\n",
    "\n",
    "class TaskB(TaskExample):\n",
    "    def requires(self):\n",
    "        return TaskA('A')\n",
    "\n",
    "class TaskC(TaskExample):\n",
    "    def requires(self):\n",
    "        return TaskB('B')\n",
    "\n",
    "class TaskD(TaskExample):\n",
    "    def requires(self):\n",
    "        return [TaskB('B'), TaskG('G')]\n",
    "\n",
    "class TaskE(TaskExample):\n",
    "    def requires(self):\n",
    "        return [TaskC('C'), TaskB('B'), TaskD('D')]\n",
    "\n",
    "class TaskF(TaskExample):\n",
    "    def requires(self):\n",
    "        return TaskE('E')\n",
    "\n",
    "class AllTasks(luigi.WrapperTask):\n",
    "    def requires(self):\n",
    "        return TaskF('F')"
   ]
  },
  {
   "cell_type": "markdown",
   "metadata": {},
   "source": [
    "## Planificador local y global\n",
    "\n",
    "\n",
    "1. En una terminal por separado:\n",
    "```\n",
    "luigid\n",
    "```\n",
    "\n",
    "2. Abrir en el navegador: http://localhost:8082\n",
    "\n",
    "3. En una terminal, correr el ejemplo anterior definiendo \"localhost\" como el \"--scheduler-host\":\n",
    "```\n",
    "PYTHONPATH='.' luigi --module luigi_example --scheduler-host localhost AllTasks\n",
    "```\n",
    "\n",
    "\n",
    "### Visualizador Gráfico\n",
    "\n",
    "<img src=\"img/luigi-ex-graph.png\" alt=\"Drawing\" style=\"width: 600px;\"/>\n",
    "\n",
    "***\n"
   ]
  },
  {
   "cell_type": "markdown",
   "metadata": {},
   "source": [
    "## Ejemplo Iris\n",
    "\n",
    "### Objetivo: \n",
    "Clasificar flores a partir de caractértisticas del sépalo y sus pétalos.\n",
    "- Los datos se encuentran en `data/iris.csv`\n",
    "\n",
    "\n",
    "### Tasks:\n",
    "- `IrisData()` : Revisa que existan los datos\n",
    "- `TrainTestSplit()`: Separa los datos en entrenamiento y prueba y los guarda en csv\n",
    "- `TrainModel()`: Entrena el modelo\n",
    "- `IrisPipeline()`: Manda a llamar a las diferentes modelos\n",
    "\n",
    "### Parámetros\n",
    "- `models`: los tipos de modelos a correr\n",
    "- `features`: variables del modelo\n",
    "- Hiperparámetros de cada modelo\n",
    "\n",
    "\n",
    "*** "
   ]
  },
  {
   "cell_type": "markdown",
   "metadata": {},
   "source": [
    "### Interfaz gráfica\n",
    "\n",
    "<img src=\"img/luigi-interface.png\" alt=\"Drawing\" style=\"width: 800px;\"/>"
   ]
  },
  {
   "cell_type": "markdown",
   "metadata": {},
   "source": [
    "# En resumen\n",
    "\n",
    "- Pipeline: flujo de pasos separados de forma limpia, representados en un grafo dirigido.\n",
    "- No es secuencial\n",
    "- Se puede retomar en cualquier parte\n",
    "- Se tiene mayor control \n",
    "- Es más reproducible"
   ]
  }
 ],
 "metadata": {
  "kernelspec": {
   "display_name": "Python 3",
   "language": "python",
   "name": "python3"
  },
  "language_info": {
   "codemirror_mode": {
    "name": "ipython",
    "version": 3
   },
   "file_extension": ".py",
   "mimetype": "text/x-python",
   "name": "python",
   "nbconvert_exporter": "python",
   "pygments_lexer": "ipython3",
   "version": "3.6.1"
  }
 },
 "nbformat": 4,
 "nbformat_minor": 2
}
